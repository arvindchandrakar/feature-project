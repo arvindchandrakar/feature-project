{
 "cells": [
  {
   "cell_type": "code",
   "execution_count": 205,
   "id": "acc8011a",
   "metadata": {},
   "outputs": [],
   "source": [
    "import pandas as pd\n",
    "import numpy as np\n",
    "import seaborn as sns\n",
    "import matplotlib.pyplot as plt\n",
    "%matplotlib inline"
   ]
  },
  {
   "cell_type": "code",
   "execution_count": 206,
   "id": "1459bd83",
   "metadata": {},
   "outputs": [],
   "source": [
    "df= pd.read_csv('D:/train.csv/train.csv')"
   ]
  },
  {
   "cell_type": "code",
   "execution_count": 207,
   "id": "57d3a32d",
   "metadata": {},
   "outputs": [
    {
     "data": {
      "text/html": [
       "<div>\n",
       "<style scoped>\n",
       "    .dataframe tbody tr th:only-of-type {\n",
       "        vertical-align: middle;\n",
       "    }\n",
       "\n",
       "    .dataframe tbody tr th {\n",
       "        vertical-align: top;\n",
       "    }\n",
       "\n",
       "    .dataframe thead th {\n",
       "        text-align: right;\n",
       "    }\n",
       "</style>\n",
       "<table border=\"1\" class=\"dataframe\">\n",
       "  <thead>\n",
       "    <tr style=\"text-align: right;\">\n",
       "      <th></th>\n",
       "      <th>label</th>\n",
       "      <th>user_id</th>\n",
       "      <th>X1</th>\n",
       "      <th>X2</th>\n",
       "      <th>X3</th>\n",
       "      <th>X4</th>\n",
       "      <th>X5</th>\n",
       "      <th>X6</th>\n",
       "      <th>X7</th>\n",
       "      <th>X8</th>\n",
       "      <th>...</th>\n",
       "      <th>X42</th>\n",
       "      <th>X43</th>\n",
       "      <th>X44</th>\n",
       "      <th>X45</th>\n",
       "      <th>X46</th>\n",
       "      <th>X47</th>\n",
       "      <th>X48</th>\n",
       "      <th>X49</th>\n",
       "      <th>X50</th>\n",
       "      <th>X51</th>\n",
       "    </tr>\n",
       "  </thead>\n",
       "  <tbody>\n",
       "    <tr>\n",
       "      <th>0</th>\n",
       "      <td>0</td>\n",
       "      <td>1</td>\n",
       "      <td>20972</td>\n",
       "      <td>14</td>\n",
       "      <td>13</td>\n",
       "      <td>3</td>\n",
       "      <td>11</td>\n",
       "      <td>1</td>\n",
       "      <td>2</td>\n",
       "      <td>15</td>\n",
       "      <td>...</td>\n",
       "      <td>0</td>\n",
       "      <td>0</td>\n",
       "      <td>0</td>\n",
       "      <td>0</td>\n",
       "      <td>0</td>\n",
       "      <td>0</td>\n",
       "      <td>0</td>\n",
       "      <td>0</td>\n",
       "      <td>1</td>\n",
       "      <td>0</td>\n",
       "    </tr>\n",
       "    <tr>\n",
       "      <th>1</th>\n",
       "      <td>0</td>\n",
       "      <td>2</td>\n",
       "      <td>7362</td>\n",
       "      <td>213</td>\n",
       "      <td>71</td>\n",
       "      <td>3</td>\n",
       "      <td>11</td>\n",
       "      <td>1</td>\n",
       "      <td>2</td>\n",
       "      <td>15</td>\n",
       "      <td>...</td>\n",
       "      <td>0</td>\n",
       "      <td>0</td>\n",
       "      <td>0</td>\n",
       "      <td>0</td>\n",
       "      <td>0</td>\n",
       "      <td>0</td>\n",
       "      <td>0</td>\n",
       "      <td>0</td>\n",
       "      <td>0</td>\n",
       "      <td>0</td>\n",
       "    </tr>\n",
       "    <tr>\n",
       "      <th>2</th>\n",
       "      <td>0</td>\n",
       "      <td>3</td>\n",
       "      <td>21216</td>\n",
       "      <td>215</td>\n",
       "      <td>71</td>\n",
       "      <td>3</td>\n",
       "      <td>11</td>\n",
       "      <td>1</td>\n",
       "      <td>2</td>\n",
       "      <td>15</td>\n",
       "      <td>...</td>\n",
       "      <td>0</td>\n",
       "      <td>0</td>\n",
       "      <td>0</td>\n",
       "      <td>0</td>\n",
       "      <td>0</td>\n",
       "      <td>0</td>\n",
       "      <td>0</td>\n",
       "      <td>0</td>\n",
       "      <td>0</td>\n",
       "      <td>0</td>\n",
       "    </tr>\n",
       "    <tr>\n",
       "      <th>3</th>\n",
       "      <td>0</td>\n",
       "      <td>4</td>\n",
       "      <td>2261</td>\n",
       "      <td>212</td>\n",
       "      <td>71</td>\n",
       "      <td>2</td>\n",
       "      <td>8</td>\n",
       "      <td>1</td>\n",
       "      <td>2</td>\n",
       "      <td>15</td>\n",
       "      <td>...</td>\n",
       "      <td>0</td>\n",
       "      <td>0</td>\n",
       "      <td>0</td>\n",
       "      <td>0</td>\n",
       "      <td>0</td>\n",
       "      <td>0</td>\n",
       "      <td>0</td>\n",
       "      <td>1</td>\n",
       "      <td>0</td>\n",
       "      <td>0</td>\n",
       "    </tr>\n",
       "    <tr>\n",
       "      <th>4</th>\n",
       "      <td>0</td>\n",
       "      <td>5</td>\n",
       "      <td>4543</td>\n",
       "      <td>213</td>\n",
       "      <td>71</td>\n",
       "      <td>2</td>\n",
       "      <td>8</td>\n",
       "      <td>1</td>\n",
       "      <td>2</td>\n",
       "      <td>15</td>\n",
       "      <td>...</td>\n",
       "      <td>0</td>\n",
       "      <td>0</td>\n",
       "      <td>0</td>\n",
       "      <td>0</td>\n",
       "      <td>0</td>\n",
       "      <td>0</td>\n",
       "      <td>0</td>\n",
       "      <td>0</td>\n",
       "      <td>0</td>\n",
       "      <td>0</td>\n",
       "    </tr>\n",
       "    <tr>\n",
       "      <th>...</th>\n",
       "      <td>...</td>\n",
       "      <td>...</td>\n",
       "      <td>...</td>\n",
       "      <td>...</td>\n",
       "      <td>...</td>\n",
       "      <td>...</td>\n",
       "      <td>...</td>\n",
       "      <td>...</td>\n",
       "      <td>...</td>\n",
       "      <td>...</td>\n",
       "      <td>...</td>\n",
       "      <td>...</td>\n",
       "      <td>...</td>\n",
       "      <td>...</td>\n",
       "      <td>...</td>\n",
       "      <td>...</td>\n",
       "      <td>...</td>\n",
       "      <td>...</td>\n",
       "      <td>...</td>\n",
       "      <td>...</td>\n",
       "      <td>...</td>\n",
       "    </tr>\n",
       "    <tr>\n",
       "      <th>458793</th>\n",
       "      <td>0</td>\n",
       "      <td>482931</td>\n",
       "      <td>1</td>\n",
       "      <td>213</td>\n",
       "      <td>13</td>\n",
       "      <td>3</td>\n",
       "      <td>16</td>\n",
       "      <td>4</td>\n",
       "      <td>4</td>\n",
       "      <td>22</td>\n",
       "      <td>...</td>\n",
       "      <td>0</td>\n",
       "      <td>0</td>\n",
       "      <td>0</td>\n",
       "      <td>0</td>\n",
       "      <td>0</td>\n",
       "      <td>0</td>\n",
       "      <td>0</td>\n",
       "      <td>0</td>\n",
       "      <td>1</td>\n",
       "      <td>0</td>\n",
       "    </tr>\n",
       "    <tr>\n",
       "      <th>458794</th>\n",
       "      <td>0</td>\n",
       "      <td>482932</td>\n",
       "      <td>6139</td>\n",
       "      <td>211</td>\n",
       "      <td>13</td>\n",
       "      <td>3</td>\n",
       "      <td>11</td>\n",
       "      <td>4</td>\n",
       "      <td>4</td>\n",
       "      <td>22</td>\n",
       "      <td>...</td>\n",
       "      <td>0</td>\n",
       "      <td>0</td>\n",
       "      <td>1</td>\n",
       "      <td>0</td>\n",
       "      <td>0</td>\n",
       "      <td>0</td>\n",
       "      <td>0</td>\n",
       "      <td>0</td>\n",
       "      <td>1</td>\n",
       "      <td>0</td>\n",
       "    </tr>\n",
       "    <tr>\n",
       "      <th>458795</th>\n",
       "      <td>0</td>\n",
       "      <td>482933</td>\n",
       "      <td>1164</td>\n",
       "      <td>213</td>\n",
       "      <td>13</td>\n",
       "      <td>3</td>\n",
       "      <td>11</td>\n",
       "      <td>4</td>\n",
       "      <td>4</td>\n",
       "      <td>22</td>\n",
       "      <td>...</td>\n",
       "      <td>2</td>\n",
       "      <td>0</td>\n",
       "      <td>0</td>\n",
       "      <td>0</td>\n",
       "      <td>0</td>\n",
       "      <td>0</td>\n",
       "      <td>0</td>\n",
       "      <td>1</td>\n",
       "      <td>1</td>\n",
       "      <td>0</td>\n",
       "    </tr>\n",
       "    <tr>\n",
       "      <th>458796</th>\n",
       "      <td>0</td>\n",
       "      <td>482934</td>\n",
       "      <td>187</td>\n",
       "      <td>137</td>\n",
       "      <td>14</td>\n",
       "      <td>2</td>\n",
       "      <td>2</td>\n",
       "      <td>4</td>\n",
       "      <td>4</td>\n",
       "      <td>22</td>\n",
       "      <td>...</td>\n",
       "      <td>0</td>\n",
       "      <td>0</td>\n",
       "      <td>0</td>\n",
       "      <td>0</td>\n",
       "      <td>0</td>\n",
       "      <td>0</td>\n",
       "      <td>0</td>\n",
       "      <td>0</td>\n",
       "      <td>1</td>\n",
       "      <td>0</td>\n",
       "    </tr>\n",
       "    <tr>\n",
       "      <th>458797</th>\n",
       "      <td>0</td>\n",
       "      <td>482935</td>\n",
       "      <td>19901</td>\n",
       "      <td>213</td>\n",
       "      <td>13</td>\n",
       "      <td>3</td>\n",
       "      <td>11</td>\n",
       "      <td>4</td>\n",
       "      <td>4</td>\n",
       "      <td>22</td>\n",
       "      <td>...</td>\n",
       "      <td>0</td>\n",
       "      <td>0</td>\n",
       "      <td>0</td>\n",
       "      <td>0</td>\n",
       "      <td>0</td>\n",
       "      <td>0</td>\n",
       "      <td>0</td>\n",
       "      <td>0</td>\n",
       "      <td>0</td>\n",
       "      <td>0</td>\n",
       "    </tr>\n",
       "  </tbody>\n",
       "</table>\n",
       "<p>458798 rows × 53 columns</p>\n",
       "</div>"
      ],
      "text/plain": [
       "        label  user_id     X1   X2  X3  X4  X5  X6  X7  X8  ...  X42  X43  \\\n",
       "0           0        1  20972   14  13   3  11   1   2  15  ...    0    0   \n",
       "1           0        2   7362  213  71   3  11   1   2  15  ...    0    0   \n",
       "2           0        3  21216  215  71   3  11   1   2  15  ...    0    0   \n",
       "3           0        4   2261  212  71   2   8   1   2  15  ...    0    0   \n",
       "4           0        5   4543  213  71   2   8   1   2  15  ...    0    0   \n",
       "...       ...      ...    ...  ...  ..  ..  ..  ..  ..  ..  ...  ...  ...   \n",
       "458793      0   482931      1  213  13   3  16   4   4  22  ...    0    0   \n",
       "458794      0   482932   6139  211  13   3  11   4   4  22  ...    0    0   \n",
       "458795      0   482933   1164  213  13   3  11   4   4  22  ...    2    0   \n",
       "458796      0   482934    187  137  14   2   2   4   4  22  ...    0    0   \n",
       "458797      0   482935  19901  213  13   3  11   4   4  22  ...    0    0   \n",
       "\n",
       "        X44  X45  X46  X47  X48  X49  X50  X51  \n",
       "0         0    0    0    0    0    0    1    0  \n",
       "1         0    0    0    0    0    0    0    0  \n",
       "2         0    0    0    0    0    0    0    0  \n",
       "3         0    0    0    0    0    1    0    0  \n",
       "4         0    0    0    0    0    0    0    0  \n",
       "...     ...  ...  ...  ...  ...  ...  ...  ...  \n",
       "458793    0    0    0    0    0    0    1    0  \n",
       "458794    1    0    0    0    0    0    1    0  \n",
       "458795    0    0    0    0    0    1    1    0  \n",
       "458796    0    0    0    0    0    0    1    0  \n",
       "458797    0    0    0    0    0    0    0    0  \n",
       "\n",
       "[458798 rows x 53 columns]"
      ]
     },
     "execution_count": 207,
     "metadata": {},
     "output_type": "execute_result"
    }
   ],
   "source": [
    "df"
   ]
  },
  {
   "cell_type": "code",
   "execution_count": 208,
   "id": "a938a866",
   "metadata": {},
   "outputs": [
    {
     "name": "stdout",
     "output_type": "stream",
     "text": [
      "<class 'pandas.core.frame.DataFrame'>\n",
      "RangeIndex: 458798 entries, 0 to 458797\n",
      "Data columns (total 53 columns):\n",
      " #   Column   Non-Null Count   Dtype  \n",
      "---  ------   --------------   -----  \n",
      " 0   label    458798 non-null  int64  \n",
      " 1   user_id  458798 non-null  int64  \n",
      " 2   X1       458798 non-null  int64  \n",
      " 3   X2       458798 non-null  int64  \n",
      " 4   X3       458798 non-null  int64  \n",
      " 5   X4       458798 non-null  int64  \n",
      " 6   X5       458798 non-null  int64  \n",
      " 7   X6       458798 non-null  int64  \n",
      " 8   X7       458798 non-null  int64  \n",
      " 9   X8       458798 non-null  int64  \n",
      " 10  X9       458798 non-null  int64  \n",
      " 11  X10      458798 non-null  int64  \n",
      " 12  X11      458798 non-null  int64  \n",
      " 13  X12      458798 non-null  int64  \n",
      " 14  X13      458792 non-null  float64\n",
      " 15  X14      458798 non-null  int64  \n",
      " 16  X15      458798 non-null  int64  \n",
      " 17  X16      458798 non-null  int64  \n",
      " 18  X17      458798 non-null  int64  \n",
      " 19  X18      458798 non-null  int64  \n",
      " 20  X19      458798 non-null  int64  \n",
      " 21  X20      458798 non-null  int64  \n",
      " 22  X21      458798 non-null  int64  \n",
      " 23  X22      458798 non-null  int64  \n",
      " 24  X23      458798 non-null  int64  \n",
      " 25  X24      458798 non-null  int64  \n",
      " 26  X25      458798 non-null  int64  \n",
      " 27  X26      458798 non-null  int64  \n",
      " 28  X27      458798 non-null  int64  \n",
      " 29  X28      458798 non-null  int64  \n",
      " 30  X29      458798 non-null  int64  \n",
      " 31  X30      458798 non-null  int64  \n",
      " 32  X31      458798 non-null  int64  \n",
      " 33  X32      458798 non-null  int64  \n",
      " 34  X33      458798 non-null  int64  \n",
      " 35  X34      458798 non-null  int64  \n",
      " 36  X35      458798 non-null  int64  \n",
      " 37  X36      458798 non-null  int64  \n",
      " 38  X37      458798 non-null  int64  \n",
      " 39  X38      458798 non-null  int64  \n",
      " 40  X39      458798 non-null  int64  \n",
      " 41  X40      458798 non-null  int64  \n",
      " 42  X41      458798 non-null  int64  \n",
      " 43  X42      458798 non-null  int64  \n",
      " 44  X43      458798 non-null  int64  \n",
      " 45  X44      458798 non-null  int64  \n",
      " 46  X45      458798 non-null  int64  \n",
      " 47  X46      458798 non-null  int64  \n",
      " 48  X47      458798 non-null  int64  \n",
      " 49  X48      458798 non-null  int64  \n",
      " 50  X49      458798 non-null  int64  \n",
      " 51  X50      458798 non-null  int64  \n",
      " 52  X51      458798 non-null  int64  \n",
      "dtypes: float64(1), int64(52)\n",
      "memory usage: 185.5 MB\n"
     ]
    }
   ],
   "source": [
    "df.info()"
   ]
  },
  {
   "cell_type": "code",
   "execution_count": 209,
   "id": "4a91563b",
   "metadata": {},
   "outputs": [],
   "source": [
    "df.drop(['user_id'],axis=1,inplace=True)"
   ]
  },
  {
   "cell_type": "code",
   "execution_count": 210,
   "id": "44b31901",
   "metadata": {},
   "outputs": [],
   "source": [
    "df.dropna(subset=['X13'],inplace=True)"
   ]
  },
  {
   "cell_type": "code",
   "execution_count": 211,
   "id": "e0594ef0",
   "metadata": {},
   "outputs": [
    {
     "data": {
      "text/plain": [
       "0    446471\n",
       "1     12321\n",
       "Name: label, dtype: int64"
      ]
     },
     "execution_count": 211,
     "metadata": {},
     "output_type": "execute_result"
    }
   ],
   "source": [
    "df['label'].value_counts()"
   ]
  },
  {
   "cell_type": "code",
   "execution_count": 212,
   "id": "963c542a",
   "metadata": {},
   "outputs": [],
   "source": [
    "## It means we are having imbalance dataset."
   ]
  },
  {
   "cell_type": "code",
   "execution_count": 213,
   "id": "5f7dda97",
   "metadata": {},
   "outputs": [],
   "source": [
    "from sklearn.model_selection import StratifiedKFold"
   ]
  },
  {
   "cell_type": "code",
   "execution_count": 214,
   "id": "c272c049",
   "metadata": {},
   "outputs": [],
   "source": [
    "X= df.drop(['label'],axis=1)\n",
    "y= df['label']"
   ]
  },
  {
   "cell_type": "code",
   "execution_count": 215,
   "id": "a806b455",
   "metadata": {},
   "outputs": [],
   "source": [
    "kf = StratifiedKFold(n_splits=5)"
   ]
  },
  {
   "cell_type": "code",
   "execution_count": 216,
   "id": "81279f79",
   "metadata": {},
   "outputs": [],
   "source": [
    "for train_index, test_index in kf.split(X,y):\n",
    "    X_train=X.iloc[train_index]\n",
    "    X_test=X.iloc[test_index]\n",
    "    y_train=y.iloc[train_index]\n",
    "    y_test=y.iloc[test_index]"
   ]
  },
  {
   "cell_type": "code",
   "execution_count": 217,
   "id": "37200e00",
   "metadata": {},
   "outputs": [],
   "source": [
    "#from sklearn.preprocessing import MinMaxScaler"
   ]
  },
  {
   "cell_type": "code",
   "execution_count": 218,
   "id": "acfdf392",
   "metadata": {},
   "outputs": [],
   "source": [
    "#scaler = MinMaxScaler()"
   ]
  },
  {
   "cell_type": "code",
   "execution_count": 219,
   "id": "8c3beab9",
   "metadata": {},
   "outputs": [],
   "source": [
    "#X_train= scaler.fit_transform(X_train)"
   ]
  },
  {
   "cell_type": "code",
   "execution_count": 220,
   "id": "bdd7b0d5",
   "metadata": {},
   "outputs": [],
   "source": [
    "#X_test = scaler.transform(X_test)"
   ]
  },
  {
   "cell_type": "code",
   "execution_count": 221,
   "id": "711ce88b",
   "metadata": {},
   "outputs": [
    {
     "data": {
      "text/plain": [
       "VarianceThreshold(threshold=0.01)"
      ]
     },
     "execution_count": 221,
     "metadata": {},
     "output_type": "execute_result"
    }
   ],
   "source": [
    "from sklearn.feature_selection import VarianceThreshold\n",
    "var_thres=VarianceThreshold(threshold=0.01)\n",
    "var_thres.fit(X_train)"
   ]
  },
  {
   "cell_type": "code",
   "execution_count": 222,
   "id": "e04e00df",
   "metadata": {},
   "outputs": [
    {
     "name": "stdout",
     "output_type": "stream",
     "text": [
      "12\n"
     ]
    }
   ],
   "source": [
    "constant_columns = [column for column in X_train.columns\n",
    "                    if column not in X_train.columns[var_thres.get_support()]]\n",
    "\n",
    "print(len(constant_columns))"
   ]
  },
  {
   "cell_type": "code",
   "execution_count": 223,
   "id": "36a518dd",
   "metadata": {},
   "outputs": [
    {
     "data": {
      "text/plain": [
       "['X11',\n",
       " 'X12',\n",
       " 'X27',\n",
       " 'X29',\n",
       " 'X30',\n",
       " 'X33',\n",
       " 'X37',\n",
       " 'X45',\n",
       " 'X46',\n",
       " 'X47',\n",
       " 'X48',\n",
       " 'X51']"
      ]
     },
     "execution_count": 223,
     "metadata": {},
     "output_type": "execute_result"
    }
   ],
   "source": [
    "constant_columns"
   ]
  },
  {
   "cell_type": "code",
   "execution_count": 224,
   "id": "1c3010bb",
   "metadata": {},
   "outputs": [],
   "source": [
    "# It means we are having 12 constant columns."
   ]
  },
  {
   "cell_type": "code",
   "execution_count": 225,
   "id": "0999981a",
   "metadata": {},
   "outputs": [
    {
     "name": "stderr",
     "output_type": "stream",
     "text": [
      "C:\\Users\\chand\\anaconda3\\lib\\site-packages\\pandas\\core\\frame.py:4308: SettingWithCopyWarning: \n",
      "A value is trying to be set on a copy of a slice from a DataFrame\n",
      "\n",
      "See the caveats in the documentation: https://pandas.pydata.org/pandas-docs/stable/user_guide/indexing.html#returning-a-view-versus-a-copy\n",
      "  return super().drop(\n"
     ]
    }
   ],
   "source": [
    "X_train.drop(constant_columns,axis=1,inplace=True)"
   ]
  },
  {
   "cell_type": "code",
   "execution_count": 226,
   "id": "98f0d43b",
   "metadata": {},
   "outputs": [
    {
     "data": {
      "text/plain": [
       "Index(['X1', 'X2', 'X3', 'X4', 'X5', 'X6', 'X7', 'X8', 'X9', 'X10', 'X13',\n",
       "       'X14', 'X15', 'X16', 'X17', 'X18', 'X19', 'X20', 'X21', 'X22', 'X23',\n",
       "       'X24', 'X25', 'X26', 'X28', 'X31', 'X32', 'X34', 'X35', 'X36', 'X38',\n",
       "       'X39', 'X40', 'X41', 'X42', 'X43', 'X44', 'X49', 'X50'],\n",
       "      dtype='object')"
      ]
     },
     "execution_count": 226,
     "metadata": {},
     "output_type": "execute_result"
    }
   ],
   "source": [
    "X_train.columns"
   ]
  },
  {
   "cell_type": "code",
   "execution_count": 227,
   "id": "a95432d5",
   "metadata": {},
   "outputs": [],
   "source": [
    "def correlation(dataset, threshold):\n",
    "    col_corr = set()  # Set of all the names of correlated columns\n",
    "    corr_matrix = dataset.corr()\n",
    "    for i in range(len(corr_matrix.columns)):\n",
    "        for j in range(i):\n",
    "            if abs(corr_matrix.iloc[i, j]) > threshold: # we are interested in absolute coeff value\n",
    "                colname = corr_matrix.columns[i]  # getting the name of column\n",
    "                col_corr.add(colname)\n",
    "    return col_corr"
   ]
  },
  {
   "cell_type": "code",
   "execution_count": 228,
   "id": "a02a88b7",
   "metadata": {},
   "outputs": [
    {
     "data": {
      "text/plain": [
       "4"
      ]
     },
     "execution_count": 228,
     "metadata": {},
     "output_type": "execute_result"
    }
   ],
   "source": [
    "corr_features = correlation(X_train, 0.8)\n",
    "len(set(corr_features))"
   ]
  },
  {
   "cell_type": "code",
   "execution_count": 229,
   "id": "f8b643b6",
   "metadata": {},
   "outputs": [],
   "source": [
    "X_train.drop(corr_features,axis=1,inplace=True)"
   ]
  },
  {
   "cell_type": "code",
   "execution_count": 230,
   "id": "07d833ae",
   "metadata": {},
   "outputs": [
    {
     "data": {
      "text/plain": [
       "35"
      ]
     },
     "execution_count": 230,
     "metadata": {},
     "output_type": "execute_result"
    }
   ],
   "source": [
    "len(X_train.columns)"
   ]
  },
  {
   "cell_type": "code",
   "execution_count": 231,
   "id": "6694ff40",
   "metadata": {},
   "outputs": [
    {
     "name": "stdout",
     "output_type": "stream",
     "text": [
      "<class 'pandas.core.frame.DataFrame'>\n",
      "Int64Index: 367034 entries, 0 to 368638\n",
      "Data columns (total 35 columns):\n",
      " #   Column  Non-Null Count   Dtype  \n",
      "---  ------  --------------   -----  \n",
      " 0   X1      367034 non-null  int64  \n",
      " 1   X2      367034 non-null  int64  \n",
      " 2   X3      367034 non-null  int64  \n",
      " 3   X4      367034 non-null  int64  \n",
      " 4   X5      367034 non-null  int64  \n",
      " 5   X6      367034 non-null  int64  \n",
      " 6   X7      367034 non-null  int64  \n",
      " 7   X8      367034 non-null  int64  \n",
      " 8   X9      367034 non-null  int64  \n",
      " 9   X10     367034 non-null  int64  \n",
      " 10  X13     367034 non-null  float64\n",
      " 11  X14     367034 non-null  int64  \n",
      " 12  X15     367034 non-null  int64  \n",
      " 13  X16     367034 non-null  int64  \n",
      " 14  X17     367034 non-null  int64  \n",
      " 15  X19     367034 non-null  int64  \n",
      " 16  X21     367034 non-null  int64  \n",
      " 17  X22     367034 non-null  int64  \n",
      " 18  X23     367034 non-null  int64  \n",
      " 19  X24     367034 non-null  int64  \n",
      " 20  X25     367034 non-null  int64  \n",
      " 21  X26     367034 non-null  int64  \n",
      " 22  X28     367034 non-null  int64  \n",
      " 23  X31     367034 non-null  int64  \n",
      " 24  X32     367034 non-null  int64  \n",
      " 25  X34     367034 non-null  int64  \n",
      " 26  X36     367034 non-null  int64  \n",
      " 27  X38     367034 non-null  int64  \n",
      " 28  X39     367034 non-null  int64  \n",
      " 29  X40     367034 non-null  int64  \n",
      " 30  X41     367034 non-null  int64  \n",
      " 31  X42     367034 non-null  int64  \n",
      " 32  X43     367034 non-null  int64  \n",
      " 33  X49     367034 non-null  int64  \n",
      " 34  X50     367034 non-null  int64  \n",
      "dtypes: float64(1), int64(34)\n",
      "memory usage: 100.8 MB\n"
     ]
    }
   ],
   "source": [
    "X_train.info()"
   ]
  },
  {
   "cell_type": "code",
   "execution_count": 232,
   "id": "77f1fa28",
   "metadata": {},
   "outputs": [],
   "source": [
    "from sklearn.feature_selection import mutual_info_classif"
   ]
  },
  {
   "cell_type": "code",
   "execution_count": 233,
   "id": "75cd1072",
   "metadata": {},
   "outputs": [],
   "source": [
    "mutual_info=mutual_info_classif(X_train,y_train)"
   ]
  },
  {
   "cell_type": "code",
   "execution_count": 234,
   "id": "070cf76a",
   "metadata": {},
   "outputs": [
    {
     "data": {
      "text/plain": [
       "X4     0.055891\n",
       "X6     0.050403\n",
       "X19    0.045141\n",
       "X36    0.042452\n",
       "X8     0.040962\n",
       "X3     0.036208\n",
       "X7     0.033526\n",
       "X1     0.032838\n",
       "X9     0.031697\n",
       "X5     0.031546\n",
       "X2     0.030094\n",
       "X10    0.028520\n",
       "X39    0.027753\n",
       "X50    0.024028\n",
       "X22    0.022326\n",
       "X49    0.014980\n",
       "X17    0.011272\n",
       "X21    0.010752\n",
       "X25    0.009187\n",
       "X28    0.009146\n",
       "X16    0.008122\n",
       "X42    0.007039\n",
       "X23    0.003915\n",
       "X15    0.003655\n",
       "X31    0.002766\n",
       "X34    0.002605\n",
       "X24    0.002123\n",
       "X38    0.001784\n",
       "X32    0.001743\n",
       "X41    0.001048\n",
       "X43    0.000789\n",
       "X26    0.000468\n",
       "X14    0.000277\n",
       "X13    0.000024\n",
       "X40    0.000000\n",
       "dtype: float64"
      ]
     },
     "execution_count": 234,
     "metadata": {},
     "output_type": "execute_result"
    }
   ],
   "source": [
    "mutual_data=pd.Series(mutual_info,index=X_train.columns)\n",
    "mutual_data.sort_values(ascending=False)"
   ]
  },
  {
   "cell_type": "code",
   "execution_count": 235,
   "id": "9ce3c70e",
   "metadata": {},
   "outputs": [],
   "source": [
    "from sklearn.feature_selection import SelectKBest\n",
    "from sklearn.feature_selection import chi2"
   ]
  },
  {
   "cell_type": "code",
   "execution_count": 236,
   "id": "8ba7ec3c",
   "metadata": {},
   "outputs": [],
   "source": [
    "ordered_rank_features=SelectKBest(score_func=chi2,k=20)\n",
    "ordered_feature=ordered_rank_features.fit(X_train,y_train)"
   ]
  },
  {
   "cell_type": "code",
   "execution_count": 237,
   "id": "04f5274e",
   "metadata": {},
   "outputs": [],
   "source": [
    "dfscores=pd.DataFrame(ordered_feature.scores_,columns=[\"Score\"])\n",
    "dfcolumns=pd.DataFrame(X_train.columns)"
   ]
  },
  {
   "cell_type": "code",
   "execution_count": 238,
   "id": "1d7583b7",
   "metadata": {},
   "outputs": [],
   "source": [
    "features_rank=pd.concat([dfcolumns,dfscores],axis=1)"
   ]
  },
  {
   "cell_type": "code",
   "execution_count": 239,
   "id": "dd9c5429",
   "metadata": {},
   "outputs": [
    {
     "data": {
      "text/html": [
       "<div>\n",
       "<style scoped>\n",
       "    .dataframe tbody tr th:only-of-type {\n",
       "        vertical-align: middle;\n",
       "    }\n",
       "\n",
       "    .dataframe tbody tr th {\n",
       "        vertical-align: top;\n",
       "    }\n",
       "\n",
       "    .dataframe thead th {\n",
       "        text-align: right;\n",
       "    }\n",
       "</style>\n",
       "<table border=\"1\" class=\"dataframe\">\n",
       "  <thead>\n",
       "    <tr style=\"text-align: right;\">\n",
       "      <th></th>\n",
       "      <th>Features</th>\n",
       "      <th>Score</th>\n",
       "    </tr>\n",
       "  </thead>\n",
       "  <tbody>\n",
       "    <tr>\n",
       "      <th>0</th>\n",
       "      <td>X1</td>\n",
       "      <td>1.871544e+06</td>\n",
       "    </tr>\n",
       "    <tr>\n",
       "      <th>1</th>\n",
       "      <td>X2</td>\n",
       "      <td>3.412010e+03</td>\n",
       "    </tr>\n",
       "    <tr>\n",
       "      <th>2</th>\n",
       "      <td>X3</td>\n",
       "      <td>6.752942e+03</td>\n",
       "    </tr>\n",
       "    <tr>\n",
       "      <th>3</th>\n",
       "      <td>X4</td>\n",
       "      <td>3.916852e+03</td>\n",
       "    </tr>\n",
       "    <tr>\n",
       "      <th>4</th>\n",
       "      <td>X5</td>\n",
       "      <td>2.469103e+04</td>\n",
       "    </tr>\n",
       "    <tr>\n",
       "      <th>5</th>\n",
       "      <td>X6</td>\n",
       "      <td>1.766938e+03</td>\n",
       "    </tr>\n",
       "    <tr>\n",
       "      <th>6</th>\n",
       "      <td>X7</td>\n",
       "      <td>1.524638e+04</td>\n",
       "    </tr>\n",
       "    <tr>\n",
       "      <th>7</th>\n",
       "      <td>X8</td>\n",
       "      <td>5.337445e+03</td>\n",
       "    </tr>\n",
       "    <tr>\n",
       "      <th>8</th>\n",
       "      <td>X9</td>\n",
       "      <td>1.079491e+03</td>\n",
       "    </tr>\n",
       "    <tr>\n",
       "      <th>9</th>\n",
       "      <td>X10</td>\n",
       "      <td>1.011455e+08</td>\n",
       "    </tr>\n",
       "    <tr>\n",
       "      <th>10</th>\n",
       "      <td>X13</td>\n",
       "      <td>2.190930e+01</td>\n",
       "    </tr>\n",
       "    <tr>\n",
       "      <th>11</th>\n",
       "      <td>X14</td>\n",
       "      <td>1.417713e+02</td>\n",
       "    </tr>\n",
       "    <tr>\n",
       "      <th>12</th>\n",
       "      <td>X15</td>\n",
       "      <td>2.914445e+03</td>\n",
       "    </tr>\n",
       "    <tr>\n",
       "      <th>13</th>\n",
       "      <td>X16</td>\n",
       "      <td>1.688046e+03</td>\n",
       "    </tr>\n",
       "    <tr>\n",
       "      <th>14</th>\n",
       "      <td>X17</td>\n",
       "      <td>2.672299e+03</td>\n",
       "    </tr>\n",
       "    <tr>\n",
       "      <th>15</th>\n",
       "      <td>X19</td>\n",
       "      <td>1.398140e+06</td>\n",
       "    </tr>\n",
       "    <tr>\n",
       "      <th>16</th>\n",
       "      <td>X21</td>\n",
       "      <td>4.364356e+04</td>\n",
       "    </tr>\n",
       "    <tr>\n",
       "      <th>17</th>\n",
       "      <td>X22</td>\n",
       "      <td>2.112988e+04</td>\n",
       "    </tr>\n",
       "    <tr>\n",
       "      <th>18</th>\n",
       "      <td>X23</td>\n",
       "      <td>2.760462e+01</td>\n",
       "    </tr>\n",
       "    <tr>\n",
       "      <th>19</th>\n",
       "      <td>X24</td>\n",
       "      <td>1.630405e+03</td>\n",
       "    </tr>\n",
       "    <tr>\n",
       "      <th>20</th>\n",
       "      <td>X25</td>\n",
       "      <td>6.388365e+03</td>\n",
       "    </tr>\n",
       "    <tr>\n",
       "      <th>21</th>\n",
       "      <td>X26</td>\n",
       "      <td>1.776151e+02</td>\n",
       "    </tr>\n",
       "    <tr>\n",
       "      <th>22</th>\n",
       "      <td>X28</td>\n",
       "      <td>1.942192e+03</td>\n",
       "    </tr>\n",
       "    <tr>\n",
       "      <th>23</th>\n",
       "      <td>X31</td>\n",
       "      <td>3.619167e+02</td>\n",
       "    </tr>\n",
       "    <tr>\n",
       "      <th>24</th>\n",
       "      <td>X32</td>\n",
       "      <td>4.535128e+02</td>\n",
       "    </tr>\n",
       "    <tr>\n",
       "      <th>25</th>\n",
       "      <td>X34</td>\n",
       "      <td>3.423645e+02</td>\n",
       "    </tr>\n",
       "    <tr>\n",
       "      <th>26</th>\n",
       "      <td>X36</td>\n",
       "      <td>4.516526e+03</td>\n",
       "    </tr>\n",
       "    <tr>\n",
       "      <th>27</th>\n",
       "      <td>X38</td>\n",
       "      <td>8.122400e+02</td>\n",
       "    </tr>\n",
       "    <tr>\n",
       "      <th>28</th>\n",
       "      <td>X39</td>\n",
       "      <td>3.924936e+03</td>\n",
       "    </tr>\n",
       "    <tr>\n",
       "      <th>29</th>\n",
       "      <td>X40</td>\n",
       "      <td>9.005533e+01</td>\n",
       "    </tr>\n",
       "    <tr>\n",
       "      <th>30</th>\n",
       "      <td>X41</td>\n",
       "      <td>4.458087e+02</td>\n",
       "    </tr>\n",
       "    <tr>\n",
       "      <th>31</th>\n",
       "      <td>X42</td>\n",
       "      <td>3.572250e+03</td>\n",
       "    </tr>\n",
       "    <tr>\n",
       "      <th>32</th>\n",
       "      <td>X43</td>\n",
       "      <td>3.409574e+02</td>\n",
       "    </tr>\n",
       "    <tr>\n",
       "      <th>33</th>\n",
       "      <td>X49</td>\n",
       "      <td>2.546481e+03</td>\n",
       "    </tr>\n",
       "    <tr>\n",
       "      <th>34</th>\n",
       "      <td>X50</td>\n",
       "      <td>2.008120e+03</td>\n",
       "    </tr>\n",
       "  </tbody>\n",
       "</table>\n",
       "</div>"
      ],
      "text/plain": [
       "   Features         Score\n",
       "0        X1  1.871544e+06\n",
       "1        X2  3.412010e+03\n",
       "2        X3  6.752942e+03\n",
       "3        X4  3.916852e+03\n",
       "4        X5  2.469103e+04\n",
       "5        X6  1.766938e+03\n",
       "6        X7  1.524638e+04\n",
       "7        X8  5.337445e+03\n",
       "8        X9  1.079491e+03\n",
       "9       X10  1.011455e+08\n",
       "10      X13  2.190930e+01\n",
       "11      X14  1.417713e+02\n",
       "12      X15  2.914445e+03\n",
       "13      X16  1.688046e+03\n",
       "14      X17  2.672299e+03\n",
       "15      X19  1.398140e+06\n",
       "16      X21  4.364356e+04\n",
       "17      X22  2.112988e+04\n",
       "18      X23  2.760462e+01\n",
       "19      X24  1.630405e+03\n",
       "20      X25  6.388365e+03\n",
       "21      X26  1.776151e+02\n",
       "22      X28  1.942192e+03\n",
       "23      X31  3.619167e+02\n",
       "24      X32  4.535128e+02\n",
       "25      X34  3.423645e+02\n",
       "26      X36  4.516526e+03\n",
       "27      X38  8.122400e+02\n",
       "28      X39  3.924936e+03\n",
       "29      X40  9.005533e+01\n",
       "30      X41  4.458087e+02\n",
       "31      X42  3.572250e+03\n",
       "32      X43  3.409574e+02\n",
       "33      X49  2.546481e+03\n",
       "34      X50  2.008120e+03"
      ]
     },
     "execution_count": 239,
     "metadata": {},
     "output_type": "execute_result"
    }
   ],
   "source": [
    "features_rank.columns=['Features','Score']\n",
    "features_rank"
   ]
  },
  {
   "cell_type": "code",
   "execution_count": 240,
   "id": "684e25dd",
   "metadata": {},
   "outputs": [],
   "source": [
    "imp_col=list(features_rank.nlargest(24,'Score')['Features'])"
   ]
  },
  {
   "cell_type": "code",
   "execution_count": 241,
   "id": "7b90fdd1",
   "metadata": {},
   "outputs": [
    {
     "data": {
      "text/plain": [
       "['X10',\n",
       " 'X1',\n",
       " 'X19',\n",
       " 'X21',\n",
       " 'X5',\n",
       " 'X22',\n",
       " 'X7',\n",
       " 'X3',\n",
       " 'X25',\n",
       " 'X8',\n",
       " 'X36',\n",
       " 'X39',\n",
       " 'X4',\n",
       " 'X42',\n",
       " 'X2',\n",
       " 'X15',\n",
       " 'X17',\n",
       " 'X49',\n",
       " 'X50',\n",
       " 'X28',\n",
       " 'X6',\n",
       " 'X16',\n",
       " 'X24',\n",
       " 'X9']"
      ]
     },
     "execution_count": 241,
     "metadata": {},
     "output_type": "execute_result"
    }
   ],
   "source": [
    "imp_col"
   ]
  },
  {
   "cell_type": "code",
   "execution_count": 242,
   "id": "47cc9f74",
   "metadata": {},
   "outputs": [],
   "source": [
    "X_train = X_train[imp_col]"
   ]
  },
  {
   "cell_type": "code",
   "execution_count": 243,
   "id": "7973beab",
   "metadata": {},
   "outputs": [],
   "source": [
    "X_test=X_test[imp_col]"
   ]
  },
  {
   "cell_type": "code",
   "execution_count": 244,
   "id": "177f0e4c",
   "metadata": {},
   "outputs": [],
   "source": [
    "import tensorflow as tf\n",
    "from tensorflow.keras.models import Sequential\n",
    "from tensorflow.keras.layers import Dense, Activation,Dropout"
   ]
  },
  {
   "cell_type": "code",
   "execution_count": 245,
   "id": "c3d20082",
   "metadata": {},
   "outputs": [
    {
     "data": {
      "text/plain": [
       "(367034, 24)"
      ]
     },
     "execution_count": 245,
     "metadata": {},
     "output_type": "execute_result"
    }
   ],
   "source": [
    "X_train.shape"
   ]
  },
  {
   "cell_type": "code",
   "execution_count": 246,
   "id": "4286f402",
   "metadata": {},
   "outputs": [],
   "source": [
    "model = Sequential()\n",
    "\n",
    "model.add(Dense(units=24,activation='relu'))\n",
    "\n",
    "model.add(Dense(units=15,activation='relu'))\n",
    "model.add(Dense(units=15,activation='relu'))\n",
    "\n",
    "model.add(Dense(units=1,activation='sigmoid'))\n",
    "\n",
    "# For a binary classification problem\n",
    "model.compile(loss='binary_crossentropy', optimizer='adam')"
   ]
  },
  {
   "cell_type": "code",
   "execution_count": 247,
   "id": "3daab825",
   "metadata": {},
   "outputs": [],
   "source": [
    "from tensorflow.keras.callbacks import EarlyStopping"
   ]
  },
  {
   "cell_type": "code",
   "execution_count": 248,
   "id": "6951b936",
   "metadata": {},
   "outputs": [],
   "source": [
    "early_stop = EarlyStopping(monitor='val_loss', mode='min', verbose=1, patience=25)"
   ]
  },
  {
   "cell_type": "code",
   "execution_count": 249,
   "id": "7b5a7b14",
   "metadata": {},
   "outputs": [
    {
     "name": "stdout",
     "output_type": "stream",
     "text": [
      "Epoch 1/40\n",
      "11470/11470 [==============================] - 16s 1ms/step - loss: 0.7269 - val_loss: 0.1371\n",
      "Epoch 2/40\n",
      "11470/11470 [==============================] - 15s 1ms/step - loss: 0.1160 - val_loss: 0.1248\n",
      "Epoch 3/40\n",
      "11470/11470 [==============================] - 16s 1ms/step - loss: 0.1129 - val_loss: 0.1238\n",
      "Epoch 4/40\n",
      "11470/11470 [==============================] - 23s 2ms/step - loss: 0.1122 - val_loss: 0.1237\n",
      "Epoch 5/40\n",
      "11470/11470 [==============================] - 25s 2ms/step - loss: 0.1115 - val_loss: 0.1228\n",
      "Epoch 6/40\n",
      "11470/11470 [==============================] - 24s 2ms/step - loss: 0.1129 - val_loss: 0.1241\n",
      "Epoch 7/40\n",
      "11470/11470 [==============================] - 24s 2ms/step - loss: 0.1116 - val_loss: 0.1211\n",
      "Epoch 8/40\n",
      "11470/11470 [==============================] - 22s 2ms/step - loss: 0.1094 - val_loss: 0.1192\n",
      "Epoch 9/40\n",
      "11470/11470 [==============================] - 25s 2ms/step - loss: 0.0971 - val_loss: 0.1270\n",
      "Epoch 10/40\n",
      "11470/11470 [==============================] - 25s 2ms/step - loss: 0.0910 - val_loss: 0.1304\n",
      "Epoch 11/40\n",
      "11470/11470 [==============================] - 24s 2ms/step - loss: 0.0842 - val_loss: 0.1265\n",
      "Epoch 12/40\n",
      "11470/11470 [==============================] - 23s 2ms/step - loss: 0.0830 - val_loss: 0.1264\n",
      "Epoch 13/40\n",
      "11470/11470 [==============================] - 24s 2ms/step - loss: 0.0800 - val_loss: 0.1263\n",
      "Epoch 14/40\n",
      "11470/11470 [==============================] - 25s 2ms/step - loss: 0.0801 - val_loss: 0.1248\n",
      "Epoch 15/40\n",
      "11470/11470 [==============================] - 24s 2ms/step - loss: 0.0793 - val_loss: 0.1226\n",
      "Epoch 16/40\n",
      "11470/11470 [==============================] - 25s 2ms/step - loss: 0.0799 - val_loss: 0.1225\n",
      "Epoch 17/40\n",
      "11470/11470 [==============================] - 24s 2ms/step - loss: 0.0772 - val_loss: 0.1251\n",
      "Epoch 18/40\n",
      "11470/11470 [==============================] - 26s 2ms/step - loss: 0.0784 - val_loss: 0.1252\n",
      "Epoch 19/40\n",
      "11470/11470 [==============================] - 28s 2ms/step - loss: 0.0753 - val_loss: 0.1585\n",
      "Epoch 20/40\n",
      "11470/11470 [==============================] - 23s 2ms/step - loss: 0.0758 - val_loss: 0.1208\n",
      "Epoch 21/40\n",
      "11470/11470 [==============================] - 23s 2ms/step - loss: 0.0752 - val_loss: 0.1228\n",
      "Epoch 22/40\n",
      "11470/11470 [==============================] - 26s 2ms/step - loss: 0.0743 - val_loss: 0.1248\n",
      "Epoch 23/40\n",
      "11470/11470 [==============================] - 22s 2ms/step - loss: 0.0734 - val_loss: 0.1181\n",
      "Epoch 24/40\n",
      "11470/11470 [==============================] - 25s 2ms/step - loss: 0.0740 - val_loss: 0.1250\n",
      "Epoch 25/40\n",
      "11470/11470 [==============================] - 23s 2ms/step - loss: 0.0728 - val_loss: 0.1226\n",
      "Epoch 26/40\n",
      "11470/11470 [==============================] - 27s 2ms/step - loss: 0.0725 - val_loss: 0.1249\n",
      "Epoch 27/40\n",
      "11470/11470 [==============================] - 26s 2ms/step - loss: 0.0747 - val_loss: 0.1249\n",
      "Epoch 28/40\n",
      "11470/11470 [==============================] - 24s 2ms/step - loss: 0.0751 - val_loss: 0.1223\n",
      "Epoch 29/40\n",
      "11470/11470 [==============================] - 29s 2ms/step - loss: 0.0718 - val_loss: 0.1250\n",
      "Epoch 30/40\n",
      "11470/11470 [==============================] - 29s 3ms/step - loss: 0.0712 - val_loss: 0.1237\n",
      "Epoch 31/40\n",
      "11470/11470 [==============================] - 29s 3ms/step - loss: 0.0717 - val_loss: 0.1210\n",
      "Epoch 32/40\n",
      "11470/11470 [==============================] - 25s 2ms/step - loss: 0.0706 - val_loss: 0.1214\n",
      "Epoch 33/40\n",
      "11470/11470 [==============================] - 29s 3ms/step - loss: 0.0701 - val_loss: 0.1164\n",
      "Epoch 34/40\n",
      "11470/11470 [==============================] - 29s 3ms/step - loss: 0.0710 - val_loss: 0.1221\n",
      "Epoch 35/40\n",
      "11470/11470 [==============================] - 27s 2ms/step - loss: 0.0696 - val_loss: 0.1229\n",
      "Epoch 36/40\n",
      "11470/11470 [==============================] - 26s 2ms/step - loss: 0.0694 - val_loss: 0.1230\n",
      "Epoch 37/40\n",
      "11470/11470 [==============================] - 29s 3ms/step - loss: 0.0695 - val_loss: 0.1185\n",
      "Epoch 38/40\n",
      "11470/11470 [==============================] - 27s 2ms/step - loss: 0.0700 - val_loss: 0.1219\n",
      "Epoch 39/40\n",
      "11470/11470 [==============================] - 28s 2ms/step - loss: 0.0750 - val_loss: 0.1265\n",
      "Epoch 40/40\n",
      "11470/11470 [==============================] - 29s 3ms/step - loss: 0.0726 - val_loss: 0.1287\n"
     ]
    },
    {
     "data": {
      "text/plain": [
       "<tensorflow.python.keras.callbacks.History at 0x18d1fae5dc0>"
      ]
     },
     "execution_count": 249,
     "metadata": {},
     "output_type": "execute_result"
    }
   ],
   "source": [
    "model.fit(x=X_train, \n",
    "          y=y_train, \n",
    "          epochs=40,\n",
    "          validation_data=(X_test, y_test), verbose=1,\n",
    "          callbacks=[early_stop]\n",
    "          )"
   ]
  },
  {
   "cell_type": "code",
   "execution_count": 250,
   "id": "7f9319bf",
   "metadata": {},
   "outputs": [],
   "source": [
    "model_loss = pd.DataFrame(model.history.history)"
   ]
  },
  {
   "cell_type": "code",
   "execution_count": 251,
   "id": "ed9a9be3",
   "metadata": {},
   "outputs": [
    {
     "data": {
      "text/plain": [
       "<AxesSubplot:>"
      ]
     },
     "execution_count": 251,
     "metadata": {},
     "output_type": "execute_result"
    },
    {
     "data": {
      "image/png": "[encoded data removed]",
      "text/plain": [
       "<Figure size 432x288 with 1 Axes>"
      ]
     },
     "metadata": {
      "needs_background": "light"
     },
     "output_type": "display_data"
    }
   ],
   "source": [
    "model_loss.plot()"
   ]
  },
  {
   "cell_type": "code",
   "execution_count": 252,
   "id": "c13ce61e",
   "metadata": {},
   "outputs": [],
   "source": [
    "predictions = model.predict_classes(X_test)"
   ]
  },
  {
   "cell_type": "code",
   "execution_count": 253,
   "id": "a79eccd4",
   "metadata": {},
   "outputs": [],
   "source": [
    "from sklearn.metrics import classification_report,confusion_matrix"
   ]
  },
  {
   "cell_type": "code",
   "execution_count": 254,
   "id": "a55d009e",
   "metadata": {},
   "outputs": [
    {
     "name": "stdout",
     "output_type": "stream",
     "text": [
      "              precision    recall  f1-score   support\n",
      "\n",
      "           0       0.97      1.00      0.99     89294\n",
      "           1       0.78      0.04      0.07      2464\n",
      "\n",
      "    accuracy                           0.97     91758\n",
      "   macro avg       0.88      0.52      0.53     91758\n",
      "weighted avg       0.97      0.97      0.96     91758\n",
      "\n"
     ]
    }
   ],
   "source": [
    "print(classification_report(y_test,predictions))"
   ]
  },
  {
   "cell_type": "code",
   "execution_count": 255,
   "id": "f1eefb51",
   "metadata": {},
   "outputs": [],
   "source": [
    "test= pd.read_csv('D:/test.csv/test.csv')"
   ]
  },
  {
   "cell_type": "code",
   "execution_count": 256,
   "id": "1e50601d",
   "metadata": {},
   "outputs": [],
   "source": [
    "test=test[imp_col]\n",
    "submission= pd.read_csv(\"D:/predict-potential-spammers-on-fiverr/sample_submission.csv\")\n",
    "predictions = model.predict(test)\n",
    "submission.label = predictions\n",
    "submission.columns = ['user_id', 'prediction']\n"
   ]
  },
  {
   "cell_type": "code",
   "execution_count": 257,
   "id": "07db4188",
   "metadata": {},
   "outputs": [
    {
     "data": {
      "text/html": [
       "<div>\n",
       "<style scoped>\n",
       "    .dataframe tbody tr th:only-of-type {\n",
       "        vertical-align: middle;\n",
       "    }\n",
       "\n",
       "    .dataframe tbody tr th {\n",
       "        vertical-align: top;\n",
       "    }\n",
       "\n",
       "    .dataframe thead th {\n",
       "        text-align: right;\n",
       "    }\n",
       "</style>\n",
       "<table border=\"1\" class=\"dataframe\">\n",
       "  <thead>\n",
       "    <tr style=\"text-align: right;\">\n",
       "      <th></th>\n",
       "      <th>user_id</th>\n",
       "      <th>prediction</th>\n",
       "    </tr>\n",
       "  </thead>\n",
       "  <tbody>\n",
       "    <tr>\n",
       "      <th>0</th>\n",
       "      <td>57</td>\n",
       "      <td>0.00752</td>\n",
       "    </tr>\n",
       "    <tr>\n",
       "      <th>1</th>\n",
       "      <td>58</td>\n",
       "      <td>0.00752</td>\n",
       "    </tr>\n",
       "    <tr>\n",
       "      <th>2</th>\n",
       "      <td>59</td>\n",
       "      <td>0.00752</td>\n",
       "    </tr>\n",
       "    <tr>\n",
       "      <th>3</th>\n",
       "      <td>60</td>\n",
       "      <td>0.00752</td>\n",
       "    </tr>\n",
       "    <tr>\n",
       "      <th>4</th>\n",
       "      <td>61</td>\n",
       "      <td>0.00752</td>\n",
       "    </tr>\n",
       "    <tr>\n",
       "      <th>...</th>\n",
       "      <td>...</td>\n",
       "      <td>...</td>\n",
       "    </tr>\n",
       "    <tr>\n",
       "      <th>24143</th>\n",
       "      <td>482942</td>\n",
       "      <td>0.00752</td>\n",
       "    </tr>\n",
       "    <tr>\n",
       "      <th>24144</th>\n",
       "      <td>482943</td>\n",
       "      <td>0.00752</td>\n",
       "    </tr>\n",
       "    <tr>\n",
       "      <th>24145</th>\n",
       "      <td>482944</td>\n",
       "      <td>0.00752</td>\n",
       "    </tr>\n",
       "    <tr>\n",
       "      <th>24146</th>\n",
       "      <td>482945</td>\n",
       "      <td>0.00752</td>\n",
       "    </tr>\n",
       "    <tr>\n",
       "      <th>24147</th>\n",
       "      <td>482946</td>\n",
       "      <td>0.00752</td>\n",
       "    </tr>\n",
       "  </tbody>\n",
       "</table>\n",
       "<p>24148 rows × 2 columns</p>\n",
       "</div>"
      ],
      "text/plain": [
       "       user_id  prediction\n",
       "0           57     0.00752\n",
       "1           58     0.00752\n",
       "2           59     0.00752\n",
       "3           60     0.00752\n",
       "4           61     0.00752\n",
       "...        ...         ...\n",
       "24143   482942     0.00752\n",
       "24144   482943     0.00752\n",
       "24145   482944     0.00752\n",
       "24146   482945     0.00752\n",
       "24147   482946     0.00752\n",
       "\n",
       "[24148 rows x 2 columns]"
      ]
     },
     "execution_count": 257,
     "metadata": {},
     "output_type": "execute_result"
    }
   ],
   "source": [
    "submission"
   ]
  },
  {
   "cell_type": "code",
   "execution_count": 258,
   "id": "99d9d6c0",
   "metadata": {},
   "outputs": [],
   "source": [
    "a=[]\n",
    "for x in submission['prediction']:\n",
    "    if x<0.5:\n",
    "        a.append(0)\n",
    "    else:\n",
    "        a.append(1)"
   ]
  },
  {
   "cell_type": "code",
   "execution_count": 259,
   "id": "36c95333",
   "metadata": {},
   "outputs": [],
   "source": [
    "submission['prediction']=a"
   ]
  },
  {
   "cell_type": "code",
   "execution_count": 260,
   "id": "89d33e0e",
   "metadata": {},
   "outputs": [
    {
     "data": {
      "text/plain": [
       "0    23634\n",
       "1      514\n",
       "Name: prediction, dtype: int64"
      ]
     },
     "execution_count": 260,
     "metadata": {},
     "output_type": "execute_result"
    }
   ],
   "source": [
    "submission['prediction'].value_counts()"
   ]
  },
  {
   "cell_type": "code",
   "execution_count": 261,
   "id": "1df15753",
   "metadata": {},
   "outputs": [],
   "source": [
    "submission.to_csv(\"D:/predict-potential-spammers-on-fiverr/sol5.csv\", index=False)"
   ]
  },
  {
   "cell_type": "code",
   "execution_count": null,
   "id": "a532a631",
   "metadata": {},
   "outputs": [],
   "source": []
  },
  {
   "cell_type": "code",
   "execution_count": null,
   "id": "f6280713",
   "metadata": {},
   "outputs": [],
   "source": []
  },
  {
   "cell_type": "code",
   "execution_count": null,
   "id": "55fc4d8c",
   "metadata": {},
   "outputs": [],
   "source": []
  },
  {
   "cell_type": "code",
   "execution_count": null,
   "id": "e2f9a8d4",
   "metadata": {},
   "outputs": [],
   "source": []
  }
 ],
 "metadata": {
  "kernelspec": {
   "display_name": "Python 3",
   "language": "python",
   "name": "python3"
  },
  "language_info": {
   "codemirror_mode": {
    "name": "ipython",
    "version": 3
   },
   "file_extension": ".py",
   "mimetype": "text/x-python",
   "name": "python",
   "nbconvert_exporter": "python",
   "pygments_lexer": "ipython3",
   "version": "3.8.8"
  }
 },
 "nbformat": 4,
 "nbformat_minor": 5
}
